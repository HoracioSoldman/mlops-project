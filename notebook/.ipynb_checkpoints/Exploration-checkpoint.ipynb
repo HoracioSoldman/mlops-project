{
 "cells": [
  {
   "cell_type": "markdown",
   "id": "b90c6d22",
   "metadata": {},
   "source": [
    "### Flight Delay Prediction"
   ]
  },
  {
   "cell_type": "code",
   "execution_count": null,
   "id": "b0bd1c2d",
   "metadata": {},
   "outputs": [],
   "source": [
    "import pandas as pd\n",
    "from datetime import datetime"
   ]
  },
  {
   "cell_type": "markdown",
   "id": "73e6e615",
   "metadata": {},
   "source": [
    "The dataset source: https://www.kaggle.com/datasets/yuanyuwendymu/airline-delay-and-cancellation-data-2009-2018?resource=download&select=2018.csv"
   ]
  },
  {
   "cell_type": "code",
   "execution_count": null,
   "id": "c2de3e07",
   "metadata": {},
   "outputs": [],
   "source": [
    "df_chuncks = pd.read_csv('../data/2018.csv', chunksize=1000000)\n",
    "df = pd.DataFrame({\"columns\":[]})\n",
    "index = 0\n",
    "for ck in df_chuncks:\n",
    "    print(ck.shape)\n",
    "    if index < 2:\n",
    "        df = pd.concat([df, ck], axis=0, ignore_index=True)\n",
    "    index+=1\n",
    "df.shape"
   ]
  },
  {
   "cell_type": "code",
   "execution_count": null,
   "id": "00ffef3f",
   "metadata": {},
   "outputs": [],
   "source": [
    "df.head()"
   ]
  },
  {
   "cell_type": "code",
   "execution_count": null,
   "id": "5dd9fb21",
   "metadata": {},
   "outputs": [],
   "source": [
    "df.describe()"
   ]
  },
  {
   "cell_type": "code",
   "execution_count": null,
   "id": "1bf22ae1",
   "metadata": {
    "scrolled": true
   },
   "outputs": [],
   "source": [
    "df.dtypes"
   ]
  },
  {
   "cell_type": "code",
   "execution_count": null,
   "id": "3b20a233",
   "metadata": {},
   "outputs": [],
   "source": [
    "# profiling missing values\n",
    "# feature columns: FL_HOUR(FL_DATE),FL_DAY(FL_DATE), OP_CARRIER, ORIGIN, DEST, DEP_HOUR(DEP_TIME), DEP_DAY(DEP_TIME)\n",
    "# target column: DEP_DELAY\n",
    "df= df[['FL_DATE', 'OP_CARRIER', 'ORIGIN', 'DEST', 'DEP_TIME', 'DISTANCE', 'CRS_DEP_TIME', 'DEP_DELAY']]\n",
    "df.head()"
   ]
  },
  {
   "cell_type": "code",
   "execution_count": null,
   "id": "e2b1128b",
   "metadata": {},
   "outputs": [],
   "source": [
    "def extract_dep_hour(dep_time):\n",
    "    dep_time = str(int(dep_time))\n",
    "    \n",
    "    if len(dep_time) == 3:\n",
    "        dep_time = f'0{dep_time}'\n",
    "    return dep_time"
   ]
  },
  {
   "cell_type": "code",
   "execution_count": null,
   "id": "1c61d216",
   "metadata": {
    "scrolled": true
   },
   "outputs": [],
   "source": [
    "df['FL_DATE'] = pd.to_datetime(df['FL_DATE'])\n",
    "df['FL_DAY'] = df['FL_DATE'].dt.day_name()\n",
    "df['DEP_HOUR_MIN'] = df['CRS_DEP_TIME'].apply(lambda x: extract_dep_hour(x))\n",
    "df['DEP_HOUR'] = df['DEP_HOUR_MIN'].apply(lambda x: x[:2])\n",
    "df['DEP_MIN'] = df['DEP_HOUR_MIN'].apply(lambda x: x[2:])\n",
    "df= df[['FL_DAY','OP_CARRIER', 'ORIGIN', 'DEST', 'DISTANCE', 'DEP_HOUR', 'DEP_MIN', 'DEP_DELAY']]\n",
    "df.head()"
   ]
  },
  {
   "cell_type": "code",
   "execution_count": null,
   "id": "662d7624",
   "metadata": {},
   "outputs": [],
   "source": [
    "categorical = ['FL_DAY','OP_CARRIER', 'ORIGIN', 'DEST', 'DEP_HOUR', 'DEP_MIN']\n",
    "numerical = ['DISTANCE']\n",
    "df[categorical] = df[categorical].astype(str)\n",
    "df.dtypes"
   ]
  },
  {
   "cell_type": "code",
   "execution_count": null,
   "id": "cc0ed0e6",
   "metadata": {},
   "outputs": [],
   "source": [
    "target = ['DEP_DELAY']\n",
    "train_df = df.drop(columns = target).copy()"
   ]
  },
  {
   "cell_type": "code",
   "execution_count": null,
   "id": "ffd28abf",
   "metadata": {
    "scrolled": true
   },
   "outputs": [],
   "source": [
    "train_df.head()"
   ]
  },
  {
   "cell_type": "code",
   "execution_count": null,
   "id": "c7c29415",
   "metadata": {},
   "outputs": [],
   "source": [
    "    "
   ]
  },
  {
   "cell_type": "code",
   "execution_count": null,
   "id": "95b7f5cc",
   "metadata": {},
   "outputs": [],
   "source": [
    "from sklearn.feature_extraction import DictVectorizer\n",
    "dv = DictVectorizer()"
   ]
  },
  {
   "cell_type": "code",
   "execution_count": null,
   "id": "abd0ab47",
   "metadata": {
    "scrolled": true
   },
   "outputs": [],
   "source": [
    "train_dict = train_df.to_dict(orient='records')\n",
    "X = dv.fit_transform(train_dict)\n",
    "y = df[target]\n",
    "\n",
    "# deal with missing values on dep_delay\n",
    "y.fillna(0, inplace=True)"
   ]
  },
  {
   "cell_type": "code",
   "execution_count": null,
   "id": "02934f15",
   "metadata": {},
   "outputs": [],
   "source": [
    "# train test validation split\n",
    "from sklearn.model_selection import train_test_split"
   ]
  },
  {
   "cell_type": "code",
   "execution_count": null,
   "id": "d6bcaaa5",
   "metadata": {},
   "outputs": [],
   "source": [
    "# we are going to split our dataset into 80:10:10 as training:test:validation respectively\n",
    "train_size=0.8"
   ]
  },
  {
   "cell_type": "code",
   "execution_count": null,
   "id": "72d982bd",
   "metadata": {},
   "outputs": [],
   "source": [
    "# split the data in training and other dataset\n",
    "X_train, X_oth, y_train, y_oth = train_test_split(X, y, train_size=0.8)\n",
    "\n",
    "# for the other data which is the remaining one, we split it into test and validation\n",
    "test_size = 0.5\n",
    "X_valid, X_test, y_valid, y_test = train_test_split(X_oth, y_oth, test_size=0.5)\n",
    "\n",
    "print(X_train.shape) \n",
    "print(y_train.shape)\n",
    "print(X_valid.shape) \n",
    "print(y_valid.shape)\n",
    "print(X_test.shape)\n",
    "print(y_test.shape)"
   ]
  },
  {
   "cell_type": "code",
   "execution_count": null,
   "id": "65844dbd",
   "metadata": {},
   "outputs": [],
   "source": [
    "y_train_values = y_train[target].values\n",
    "y_test_values = y_test[target].values\n",
    "y_valid_values = y_valid[target].values"
   ]
  },
  {
   "cell_type": "code",
   "execution_count": null,
   "id": "4225ce39",
   "metadata": {},
   "outputs": [],
   "source": [
    "from sklearn.linear_model import LinearRegression\n",
    "from sklearn.linear_model import Lasso\n",
    "from sklearn.linear_model import Ridge\n",
    "from sklearn.svm import SVR\n",
    "\n",
    "from sklearn.metrics import mean_squared_error"
   ]
  },
  {
   "cell_type": "code",
   "execution_count": null,
   "id": "482d2083",
   "metadata": {},
   "outputs": [],
   "source": [
    "# lr = LinearRegression()\n",
    "# lr.fit(X_train, y_train_values)\n",
    "\n",
    "# y_pred = lr.predict(X_test)\n",
    "\n",
    "# mean_squared_error(y_test_values, y_pred, squared=False)"
   ]
  },
  {
   "cell_type": "code",
   "execution_count": null,
   "id": "3536e26a",
   "metadata": {},
   "outputs": [],
   "source": [
    "# ls = Lasso(0.01)\n",
    "# ls.fit(X_train, y_train_values)\n",
    "\n",
    "# y_pred = ls.predict(X_test)\n",
    "\n",
    "# mean_squared_error(y_test_values, y_pred, squared=False)"
   ]
  },
  {
   "cell_type": "code",
   "execution_count": null,
   "id": "e6663142",
   "metadata": {
    "scrolled": true
   },
   "outputs": [],
   "source": [
    "svr_rbf=SVR(C=1.0, epsilon=0.2, kernel='rbf')\n",
    "\n",
    "svr_rbf.fit(X_train, y_train.values.ravel())\n",
    "y_pred = svr_rbf.predict(X_test)\n",
    "mean_squared_error(y_test_values, y_pred, squared=False)"
   ]
  },
  {
   "cell_type": "code",
   "execution_count": null,
   "id": "a2487e8f",
   "metadata": {},
   "outputs": [],
   "source": []
  },
  {
   "cell_type": "code",
   "execution_count": null,
   "id": "3f2f4ee4",
   "metadata": {},
   "outputs": [],
   "source": []
  },
  {
   "cell_type": "code",
   "execution_count": null,
   "id": "aed37b4d",
   "metadata": {},
   "outputs": [],
   "source": []
  },
  {
   "cell_type": "code",
   "execution_count": null,
   "id": "c93a79da",
   "metadata": {},
   "outputs": [],
   "source": []
  }
 ],
 "metadata": {
  "kernelspec": {
   "display_name": "Python 3 (ipykernel)",
   "language": "python",
   "name": "python3"
  },
  "language_info": {
   "codemirror_mode": {
    "name": "ipython",
    "version": 3
   },
   "file_extension": ".py",
   "mimetype": "text/x-python",
   "name": "python",
   "nbconvert_exporter": "python",
   "pygments_lexer": "ipython3",
   "version": "3.10.6"
  }
 },
 "nbformat": 4,
 "nbformat_minor": 5
}
